{
 "cells": [
  {
   "cell_type": "code",
   "execution_count": 1,
   "metadata": {},
   "outputs": [],
   "source": [
    "import pandas as pd\n",
    "\n"
   ]
  },
  {
   "cell_type": "code",
   "execution_count": 3,
   "metadata": {},
   "outputs": [
    {
     "data": {
      "text/html": [
       "<div>\n",
       "<style scoped>\n",
       "    .dataframe tbody tr th:only-of-type {\n",
       "        vertical-align: middle;\n",
       "    }\n",
       "\n",
       "    .dataframe tbody tr th {\n",
       "        vertical-align: top;\n",
       "    }\n",
       "\n",
       "    .dataframe thead th {\n",
       "        text-align: right;\n",
       "    }\n",
       "</style>\n",
       "<table border=\"1\" class=\"dataframe\">\n",
       "  <thead>\n",
       "    <tr style=\"text-align: right;\">\n",
       "      <th></th>\n",
       "      <th>Timestamp</th>\n",
       "      <th>Discord Handle</th>\n",
       "      <th>What role(s) are you volunteering for?</th>\n",
       "      <th>What experience do you have with the roles you're volunteering for?</th>\n",
       "    </tr>\n",
       "  </thead>\n",
       "  <tbody>\n",
       "    <tr>\n",
       "      <th>259</th>\n",
       "      <td>5/12/2021 3:20:06</td>\n",
       "      <td>chen246#7971</td>\n",
       "      <td>Community Manager, Community administrator</td>\n",
       "      <td>I have a lot of time to manage the community</td>\n",
       "    </tr>\n",
       "    <tr>\n",
       "      <th>260</th>\n",
       "      <td>5/12/2021 4:53:05</td>\n",
       "      <td>KZ Flyer#0926</td>\n",
       "      <td>Community Manager, Data Analytics, Government ...</td>\n",
       "      <td>Majority of my career was in banking. I wore m...</td>\n",
       "    </tr>\n",
       "    <tr>\n",
       "      <th>261</th>\n",
       "      <td>5/12/2021 5:37:01</td>\n",
       "      <td>Marque</td>\n",
       "      <td>Data Analytics, Ethereum Dev, Research Analyst</td>\n",
       "      <td>NaN</td>\n",
       "    </tr>\n",
       "    <tr>\n",
       "      <th>262</th>\n",
       "      <td>5/12/2021 7:36:53</td>\n",
       "      <td>Arias #0117</td>\n",
       "      <td>Writer</td>\n",
       "      <td>Writing/ Market Analysis since 2017- Bitpanda,...</td>\n",
       "    </tr>\n",
       "    <tr>\n",
       "      <th>263</th>\n",
       "      <td>5/12/2021 10:57:06</td>\n",
       "      <td>Gno.thyself</td>\n",
       "      <td>Community Manager, Government and Regulatory A...</td>\n",
       "      <td>I have been a director of operations for a cha...</td>\n",
       "    </tr>\n",
       "  </tbody>\n",
       "</table>\n",
       "</div>"
      ],
      "text/plain": [
       "              Timestamp Discord Handle  \\\n",
       "259   5/12/2021 3:20:06   chen246#7971   \n",
       "260   5/12/2021 4:53:05  KZ Flyer#0926   \n",
       "261   5/12/2021 5:37:01         Marque   \n",
       "262   5/12/2021 7:36:53    Arias #0117   \n",
       "263  5/12/2021 10:57:06    Gno.thyself   \n",
       "\n",
       "                What role(s) are you volunteering for?  \\\n",
       "259         Community Manager, Community administrator   \n",
       "260  Community Manager, Data Analytics, Government ...   \n",
       "261     Data Analytics, Ethereum Dev, Research Analyst   \n",
       "262                                             Writer   \n",
       "263  Community Manager, Government and Regulatory A...   \n",
       "\n",
       "    What experience do you have with the roles you're volunteering for?  \n",
       "259       I have a lot of time to manage the community                   \n",
       "260  Majority of my career was in banking. I wore m...                   \n",
       "261                                                NaN                   \n",
       "262  Writing/ Market Analysis since 2017- Bitpanda,...                   \n",
       "263  I have been a director of operations for a cha...                   "
      ]
     },
     "execution_count": 3,
     "metadata": {},
     "output_type": "execute_result"
    }
   ],
   "source": [
    "# load data\n",
    "df = pd.read_csv('volunteer.csv')\n",
    "\n",
    "df.head()\n",
    "df.tail()"
   ]
  },
  {
   "cell_type": "code",
   "execution_count": 4,
   "metadata": {},
   "outputs": [
    {
     "data": {
      "text/plain": [
       "0                    Community Manager\n",
       "1                    Community Manager\n",
       "2                    Community Manager\n",
       "3    Community Manager, UI/UX Designer\n",
       "4                    Community Manager\n",
       "Name: What role(s) are you volunteering for?, dtype: object"
      ]
     },
     "execution_count": 4,
     "metadata": {},
     "output_type": "execute_result"
    }
   ],
   "source": [
    "df['What role(s) are you volunteering for?'].head()"
   ]
  },
  {
   "cell_type": "code",
   "execution_count": 5,
   "metadata": {},
   "outputs": [
    {
     "data": {
      "text/plain": [
       "0                    Community Manager\n",
       "1                    Community Manager\n",
       "2                    Community Manager\n",
       "3    Community Manager, UI/UX Designer\n",
       "4                    Community Manager\n",
       "Name: What role(s) are you volunteering for?, dtype: object"
      ]
     },
     "execution_count": 5,
     "metadata": {},
     "output_type": "execute_result"
    }
   ],
   "source": [
    "role = df['What role(s) are you volunteering for?']\n",
    "\n",
    "role.head()"
   ]
  },
  {
   "cell_type": "code",
   "execution_count": 6,
   "metadata": {},
   "outputs": [
    {
     "data": {
      "text/plain": [
       "259           Community Manager, Community administrator\n",
       "260    Community Manager, Data Analytics, Government ...\n",
       "261       Data Analytics, Ethereum Dev, Research Analyst\n",
       "262                                               Writer\n",
       "263    Community Manager, Government and Regulatory A...\n",
       "Name: What role(s) are you volunteering for?, dtype: object"
      ]
     },
     "execution_count": 6,
     "metadata": {},
     "output_type": "execute_result"
    }
   ],
   "source": [
    "role.tail()"
   ]
  },
  {
   "cell_type": "code",
   "execution_count": 14,
   "metadata": {},
   "outputs": [
    {
     "name": "stdout",
     "output_type": "stream",
     "text": [
      "[['Community Manager'], ['Community Manager'], ['Community Manager'], ['Community Manager', ' UI/UX Designer'], ['Community Manager'], ['Community Manager', ' Twitter Meme Lord'], ['Community Manager', ' Translator - Chinese'], ['Community Manager'], ['Community Manager'], ['Community Manager'], ['Community Manager', ' Translator - Portuguese'], ['Community Manager'], ['Creative (e.g.', ' graphic design or NFT creation)', ' Translator - Korean'], ['Community Manager'], ['Twitter Meme Lord'], ['Twitter Meme Lord'], ['Twitter Meme Lord'], ['Twitter Meme Lord'], ['Writer'], ['Writer'], ['Writer'], ['Writer'], ['Writer'], ['Writer'], ['Writer'], ['Writer'], ['Data Analytics', ' Writer'], ['Writer'], ['Research Analyst'], ['Research Analyst'], ['Research Analyst'], ['Product Management'], ['Product Management'], ['Frontend Dev'], ['Frontend Dev'], ['Frontend Dev'], ['Frontend Dev'], ['Frontend Dev'], ['Ethereum Dev', ' Frontend Dev'], ['Backend Dev', ' Frontend Dev'], ['Creative (e.g.', ' graphic design or NFT creation)'], ['Creative (e.g.', ' graphic design or NFT creation)'], ['Creative (e.g.', ' graphic design or NFT creation)'], ['Backend Dev', ' Ethereum Dev'], ['Government and Regulatory Affairs'], ['Government and Regulatory Affairs'], ['Data Analytics', ' Translator - Spanish'], ['Translator - Spanish'], ['Translator - Spanish'], ['Translator - Vietnamese'], ['Data Analytics', ' Writer'], ['Community Manager', ' Product Management', ' Research Analyst', ' Writer', ' Marketing'], ['Data Analytics', ' Research Analyst', ' Business Development - DAOs'], ['Security & Ops Management'], ['Grateful Participant'], ['Community Manager', ' Creative (e.g.', ' graphic design or NFT creation)', ' Product Management', ' Writer', ' My passion is around marketing', ' communications', ' customer service', ' and product development.  '], ['Translator - Italian'], ['Translator french (important for France and French Canada)'], ['Translator - Italian'], ['Frontend Dev', ' Product Management'], ['Product Management', ' Translator - italian'], ['Creative (e.g.', ' graphic design or NFT creation)', ' Research Analyst', ' Audio engineer happy to help with any audio needs for content '], ['Product Management'], ['Government and Regulatory Affairs', ' Product Management'], ['Data Analytics', ' Research Analyst'], ['Translator - Spanish', ' Writer', ' Strategy', ' Business Development', ' Investor Relations '], ['Translator - Spanish', ' Writer'], ['Research Analyst'], ['Backend Dev', ' Ethereum Dev', ' Frontend Dev', ' Writer'], ['Creative (e.g.', ' graphic design or NFT creation)', ' Research Analyst', ' Translator - German'], ['Research Analyst', ' Translator - Spanish', ' Writer'], ['Backend Dev', ' Community Manager', ' Creative (e.g.', ' graphic design or NFT creation)', ' Data Analytics', ' Ethereum Dev', ' Frontend Dev', ' Government and Regulatory Affairs', ' Product Management', ' Research Analyst', ' UI/UX Designer'], ['puedo entrar solo para aprender?'], ['Community Manager', ' Creative (e.g.', ' graphic design or NFT creation)', ' Twitter Meme Lord', ' UI/UX Designer'], ['Backend Dev', ' Ethereum Dev'], ['Data Analytics', ' Research Analyst', ' Translator - Spanish'], ['Creative (e.g.', ' graphic design or NFT creation)'], ['Translator - Spanish'], ['Creative (e.g.', ' graphic design or NFT creation)', ' Tester. Integrations Headhunter. '], ['Government and Regulatory Affairs', ' Product Management', ' Digital Strategy - reach your target audience', ' engage them in banklessness', ' encourage and support  to community leader'], ['Editor'], ['Community Manager', ' Product Management', ' Writer'], ['Backend Dev', ' Data Analytics', ' Translator - Vietnamese'], ['Community Manager', ' Creative (e.g.', ' graphic design or NFT creation)'], ['Creative (e.g.', ' graphic design or NFT creation)', ' UI/UX Designer', ' Musician'], ['Translator - Chinese'], ['open to recommendations on how I can help'], ['Research Analyst', ' Writer'], ['Creative (e.g.', ' graphic design or NFT creation)', ' UI/UX Designer', ' Musician', ' Strategist'], ['Community Manager', ' Creative (e.g.', ' graphic design or NFT creation)', ' Research Analyst', ' Twitter Meme Lord', ' Writer', \" Potential Collab– DeFi Project: Gentlemen's Bank - 40K CAD & 10K+ NFTs\"], ['Backend Dev', ' Research Analyst', ' Translator - Spanish'], ['Creative (e.g.', ' graphic design or NFT creation)', ' Twitter Meme Lord'], ['Creative (e.g.', ' graphic design or NFT creation)', ' Product Management', ' UI/UX Designer'], ['Product Management', ' Translator - Spanish'], ['Data Analytics'], ['Community Manager', ' Data Analytics', ' Translator Arabic'], ['Community Manager', ' Marketer  My influencer '], ['Research Analyst', ' Translator - Chinese'], ['Translator - Spanish'], ['Product Management'], ['Community Manager', ' Translator - Chinese'], ['Translator - French'], ['Research Analyst', ' Writer', ' Management consultant currently; willing to help on all things strategy'], ['Translator - Spanish', ' Writer', ' Traslator italian '], ['Chinese Channel Manager'], ['Community Manager', ' Team coordinator '], ['Product Management', ' UI/UX Designer'], ['Backend Dev', ' Data Analytics', ' Ethereum Dev', ' Product Management', ' Research Analyst'], ['Writer'], ['Community Manager', ' Government and Regulatory Affairs', ' Product Management', ' Research Analyst'], ['Research Analyst', ' Russian translator'], ['Audio & Video Editing. Audio restoration or enhancement etc.'], ['Backend Dev', ' Community Manager', ' Ethereum Dev', ' Frontend Dev', ' Research Analyst', ' Writer'], ['Community Manager', ' Research Analyst', ' Writer'], ['Data Analytics', ' Writer'], ['Creative (e.g.', ' graphic design or NFT creation)', ' Writer', ' Translator - German - if needed'], ['Community Manager', ' Government and Regulatory Affairs', ' Writer'], ['Community Manager'], ['Creative (e.g.', ' graphic design or NFT creation)'], ['Creative (e.g.', ' graphic design or NFT creation)', ' Frontend Dev', ' UI/UX Designer'], ['Community Manager', ' Translator - Chinese', ' Writer'], ['Community Manager', ' Product Management', ' Research Analyst', ' Writer'], ['Writer'], ['Community Manager', ' Research Analyst'], ['Frontend Dev'], ['Community Manager', ' Product Management', ' Writer', ' Market studies', ' studying actors/competition', ' creating excel models'], ['Research Analyst', ' Writer'], ['Research Analyst'], ['Community Manager', ' Research Analyst', ' Writer'], ['Community Manager', ' Creative (e.g.', ' graphic design or NFT creation)', ' Product Management', ' Writer', ' 3D Animator'], ['Community Manager', ' Creative (e.g.', ' graphic design or NFT creation)', ' Product Management', ' Research Analyst', ' Writer'], ['Ethereum Dev', ' Frontend Dev'], ['Research Analyst', ' Writer'], ['Community Manager', ' Twitter Meme Lord'], ['Creative (e.g.', ' graphic design or NFT creation)', ' Data Analytics', ' Ethereum Dev', ' Product Management', ' Research Analyst', ' Translator - Spanish'], ['Creative (e.g.', ' graphic design or NFT creation)', ' Data Analytics', ' Writer', ' education services in local communities.'], ['Creative (e.g.', ' graphic design or NFT creation)', ' UI/UX Designer'], ['Product Management', ' Writer', ' Translator - German'], ['Creative (e.g.', ' graphic design or NFT creation)', ' UI/UX Designer'], ['Creative (e.g.', ' graphic design or NFT creation)', ' PR & Event Production'], ['Community Manager', ' Translator - Chinese'], ['Data Analytics', ' Translator - Spanish', ' Writer'], ['Twitter Meme Lord', ' Writer'], ['Backend Dev', ' Data Analytics', ' Ethereum Dev', ' Frontend Dev'], ['Writer'], ['Backend Dev', ' Ethereum Dev'], ['Creative (e.g.', ' graphic design or NFT creation)', ' Translator - Korean', ' Twitter Meme Lord', ' Writer', ' Translator - Dutch'], ['Community Manager', ' Creative (e.g.', ' graphic design or NFT creation)', ' Daoist'], ['Data Analytics', ' Government and Regulatory Affairs', ' Research Analyst'], ['Data Analytics', ' Research Analyst'], ['Creative (e.g.', ' graphic design or NFT creation)', ' Data Analytics', ' Government and Regulatory Affairs', ' Product Management', ' Research Analyst', ' Writer'], ['Backend Dev', ' Data Analytics', ' Software Security'], ['Research Analyst', ' Writer'], ['Ethereum Dev', ' Writer'], ['Community Manager', ' Ethereum Dev', ' Translator - Chinese', ' Twitter Meme Lord'], ['Community Manager', ' Writer'], ['Research Analyst', ' Translator - Chinese', ' Writer'], ['Backend Dev', ' Creative (e.g.', ' graphic design or NFT creation)', ' Writer'], ['Translator - Chinese'], ['Translator - Persian (Farsi) & Marketing Consultant'], ['Creative (e.g.', ' graphic design or NFT creation)', ' UI/UX Designer'], ['Community Manager', ' Real world finance'], ['Community Manager', ' Creative (e.g.', ' graphic design or NFT creation)', ' Product Management', ' Research Analyst', ' Writer', ' Translator - German'], ['Backend Dev', ' Data Analytics', ' algorithmic trade'], ['Translator - Spanish'], ['Translator - Spanish'], ['Creative (e.g.', ' graphic design or NFT creation)', ' Data Analytics', ' Writer', ' Translator Italian'], ['Creative (e.g.', ' graphic design or NFT creation)', ' Government and Regulatory Affairs'], ['Data Analytics', ' Translator - Spanish'], ['Translator - Spanish'], ['Micro pre-seed-investor'], ['Community Manager', ' Research Analyst', ' Writer'], ['Creative (e.g.', ' graphic design or NFT creation)', ' Translator - Spanish'], ['Backend Dev', ' Data Analytics', ' Product Management'], ['Data Analytics', ' Research Analyst'], ['Backend Dev', ' Frontend Dev'], ['Ethereum Dev'], ['Backend Dev', ' Ethereum Dev', ' Frontend Dev', ' Research Analyst', ' Translator - Turkish'], ['Community Manager', ' Creative (e.g.', ' graphic design or NFT creation)', ' Research Analyst', ' Translator - Vietnamese'], ['Data Analytics', ' Writer'], ['Translator - Polish'], ['Government and Regulatory Affairs', ' Research Analyst', ' Business Development Roles '], ['Backend Dev', ' Ethereum Dev', ' Learning'], ['Government and Regulatory Affairs', ' Research Analyst', ' Writer', ' Working in a mainstream bank'], ['Community Manager', ' Government and Regulatory Affairs', ' Research Analyst', ' Translator - Spanish'], ['Translator - Vietnamese'], ['Backend Dev', ' Frontend Dev'], ['Translator - Korean'], ['Backend Dev', ' Data Analytics', ' Ethereum Dev', ' Research Analyst', ' Translator - Chinese', ' Translator - Korean', ' Writer', ' solidity \\\\ rust \\\\ substrate dev'], ['Creative (e.g.', ' graphic design or NFT creation)', ' Writer', ' Marketing/PR'], ['Data Analytics', ' Product Management', ' Research Analyst', ' Writer'], ['Translator - Portuguese', ' Translator - Vietnamese', ' Writer', ' marketing', ' communications', ' branding', ' advertising', ' (mass consumer / boomer stuff)'], ['Frontend Dev', ' UI/UX Designer', ' Information security'], ['Backend Dev', ' Community Manager', ' Data Analytics', ' Government and Regulatory Affairs', ' Research Analyst'], ['Translator - Spanish'], ['Community Manager', ' Product Management', ' Research Analyst', ' Project Management'], ['Community Manager', ' Product Management', ' Research Analyst', ' Business Development', ' Partnerships'], ['Backend Dev', ' Data Analytics', ' Ethereum Dev', ' Frontend Dev', ' UI/UX Designer'], ['Writer', ' Marketer - google SEO', ' content promotion / outreach'], ['Translator - Chinese'], ['DAO Governance Innovator/Documentarian'], ['Product Management', ' Translator - Spanish', ' Writer'], ['Product Management'], ['Backend Dev', ' Frontend Dev'], ['Data Analytics', ' Product Management', ' Translator - Chinese'], ['DAO Governance project manager/supervisor'], ['Product Management'], ['Data Analytics', ' Research Analyst', ' Writer', ' Business development'], ['Writer'], ['Product Management'], ['Government and Regulatory Affairs', ' Writer', ' Technical Support (Australian Taxation)'], ['Backend Dev', ' Community Manager', ' Ethereum Dev', ' Frontend Dev', ' Government and Regulatory Affairs', ' Twitter Meme Lord', ' UI/UX Designer'], ['Backend Dev', ' Creative (e.g.', ' graphic design or NFT creation)', ' Frontend Dev', ' Twitter Meme Lord', ' Writer'], ['Government and Regulatory Affairs', ' Translator - Spanish'], ['Community Manager', ' Data Analytics', ' Research Analyst', ' Twitter Meme Lord', ' General assistance'], ['Research Analyst', ' Translator - Chinese', ' Writer'], ['Product Management', ' Research Analyst'], ['Backend Dev', ' Frontend Dev'], ['Backend Dev', ' Ethereum Dev', ' Frontend Dev', ' Product Management'], ['Frontend Dev'], ['Research Analyst', ' Writer'], ['UI/UX Designer', ' Writer', ' Marketing/business'], ['Translator - Portuguese'], ['Community Manager', ' Data Analytics', ' Research Analyst'], ['Community Manager', ' Creative (e.g.', ' graphic design or NFT creation)', ' Product Management'], ['Backend Dev', ' Ethereum Dev', ' Research Analyst'], ['Backend Dev', ' Community Manager', ' Data Analytics', ' Frontend Dev', ' Product Management', ' Writer'], ['Product Management', ' Writer'], ['Frontend Dev', ' Product Management'], ['Frontend Dev', ' Product Management'], ['Creative (e.g.', ' graphic design or NFT creation)', ' social media', ' marketing', ' PR', ' publicity'], ['Backend Dev', ' Frontend Dev', ' UI/UX Designer'], ['Backend Dev', ' Data Analytics', ' Ethereum Dev'], ['Backend Dev', ' Community Manager', ' Creative (e.g.', ' graphic design or NFT creation)', ' Frontend Dev', ' Product Management', ' Research Analyst', ' Writer'], ['Creative (e.g.', ' graphic design or NFT creation)'], ['Community Manager', ' Data Analytics', ' Product Management', ' Translator - Chinese', ' CFA Finance background'], ['Community Manager', ' Data Analytics', ' Translator - Chinese', ' CFA Finance background'], ['Backend Dev', ' Ethereum Dev', ' Frontend Dev', ' Product Management', ' Translator - Spanish', ' Writer'], ['Community Manager', ' Creative (e.g.', ' graphic design or NFT creation)', ' Product Management', ' Twitter Meme Lord'], ['Data Analytics'], ['Backend Dev', ' Community Manager', ' Product Management', ' Liaison'], ['Creative (e.g.', ' graphic design or NFT creation)'], ['Product Management'], ['Writer', ' SEO'], ['Community Manager', ' Translator - Vietnamese'], ['Backend Dev'], ['Backend Dev', ' Ethereum Dev', ' Frontend Dev'], ['Creative (e.g.', ' graphic design or NFT creation)'], ['Community Manager', ' Translator - Spanish'], ['Product Management'], ['Backend Dev', ' Community Manager', ' Product Management', ' Research Analyst'], [\"None of the above... I'm new. I'm learning. I'm like the billion other people who are interested in the space\", \" but don't know enough about. I'm outgoing. I can speak in public. I can DJ and I make homemade pizza every week.  I'm fun. I'm funny.  I can help almost anywhere. I even used to be a high tech head hunter.  \"], ['Product Management'], ['Backend Dev', ' Ethereum Dev', ' Frontend Dev', ' Writer'], ['Community Manager', ' Research Analyst', \" I'm good with financial data and numbers in general with coding experience\", ' but coding is not my full time job. Happy to step back into the game though if helping hands are needed!'], ['Community Manager', ' Translator - Spanish'], ['Backend Dev', ' Creative (e.g.', ' graphic design or NFT creation)', ' Ethereum Dev', ' Frontend Dev', ' Writer', ' Visual Effects/3D Work'], ['Product Management'], ['Data Analytics', ' Product Management'], ['Community Manager', ' Community administrator'], ['Community Manager', ' Data Analytics', ' Government and Regulatory Affairs'], ['Data Analytics', ' Ethereum Dev', ' Research Analyst'], ['Writer'], ['Community Manager', ' Government and Regulatory Affairs', ' Research Analyst']]\n"
     ]
    }
   ],
   "source": [
    "# loop through column, split \"roles\" into separate lists\n",
    "# note: results in nested list\n",
    "\n",
    "split_role = []\n",
    "\n",
    "for cell in role:\n",
    "    split_role.append(cell.split(\",\"))\n",
    "    \n",
    "print(split_role)"
   ]
  },
  {
   "cell_type": "code",
   "execution_count": 17,
   "metadata": {},
   "outputs": [
    {
     "name": "stdout",
     "output_type": "stream",
     "text": [
      "['Community Manager', 'Community Manager', 'Community Manager', 'Community Manager', ' UI/UX Designer', 'Community Manager', 'Community Manager', ' Twitter Meme Lord', 'Community Manager', ' Translator - Chinese', 'Community Manager', 'Community Manager', 'Community Manager', 'Community Manager', ' Translator - Portuguese', 'Community Manager', 'Creative (e.g.', ' graphic design or NFT creation)', ' Translator - Korean', 'Community Manager', 'Twitter Meme Lord', 'Twitter Meme Lord', 'Twitter Meme Lord', 'Twitter Meme Lord', 'Writer', 'Writer', 'Writer', 'Writer', 'Writer', 'Writer', 'Writer', 'Writer', 'Data Analytics', ' Writer', 'Writer', 'Research Analyst', 'Research Analyst', 'Research Analyst', 'Product Management', 'Product Management', 'Frontend Dev', 'Frontend Dev', 'Frontend Dev', 'Frontend Dev', 'Frontend Dev', 'Ethereum Dev', ' Frontend Dev', 'Backend Dev', ' Frontend Dev', 'Creative (e.g.', ' graphic design or NFT creation)', 'Creative (e.g.', ' graphic design or NFT creation)', 'Creative (e.g.', ' graphic design or NFT creation)', 'Backend Dev', ' Ethereum Dev', 'Government and Regulatory Affairs', 'Government and Regulatory Affairs', 'Data Analytics', ' Translator - Spanish', 'Translator - Spanish', 'Translator - Spanish', 'Translator - Vietnamese', 'Data Analytics', ' Writer', 'Community Manager', ' Product Management', ' Research Analyst', ' Writer', ' Marketing', 'Data Analytics', ' Research Analyst', ' Business Development - DAOs', 'Security & Ops Management', 'Grateful Participant', 'Community Manager', ' Creative (e.g.', ' graphic design or NFT creation)', ' Product Management', ' Writer', ' My passion is around marketing', ' communications', ' customer service', ' and product development.  ', 'Translator - Italian', 'Translator french (important for France and French Canada)', 'Translator - Italian', 'Frontend Dev', ' Product Management', 'Product Management', ' Translator - italian', 'Creative (e.g.', ' graphic design or NFT creation)', ' Research Analyst', ' Audio engineer happy to help with any audio needs for content ', 'Product Management', 'Government and Regulatory Affairs', ' Product Management', 'Data Analytics', ' Research Analyst', 'Translator - Spanish', ' Writer', ' Strategy', ' Business Development', ' Investor Relations ', 'Translator - Spanish', ' Writer', 'Research Analyst', 'Backend Dev', ' Ethereum Dev', ' Frontend Dev', ' Writer', 'Creative (e.g.', ' graphic design or NFT creation)', ' Research Analyst', ' Translator - German', 'Research Analyst', ' Translator - Spanish', ' Writer', 'Backend Dev', ' Community Manager', ' Creative (e.g.', ' graphic design or NFT creation)', ' Data Analytics', ' Ethereum Dev', ' Frontend Dev', ' Government and Regulatory Affairs', ' Product Management', ' Research Analyst', ' UI/UX Designer', 'puedo entrar solo para aprender?', 'Community Manager', ' Creative (e.g.', ' graphic design or NFT creation)', ' Twitter Meme Lord', ' UI/UX Designer', 'Backend Dev', ' Ethereum Dev', 'Data Analytics', ' Research Analyst', ' Translator - Spanish', 'Creative (e.g.', ' graphic design or NFT creation)', 'Translator - Spanish', 'Creative (e.g.', ' graphic design or NFT creation)', ' Tester. Integrations Headhunter. ', 'Government and Regulatory Affairs', ' Product Management', ' Digital Strategy - reach your target audience', ' engage them in banklessness', ' encourage and support  to community leader', 'Editor', 'Community Manager', ' Product Management', ' Writer', 'Backend Dev', ' Data Analytics', ' Translator - Vietnamese', 'Community Manager', ' Creative (e.g.', ' graphic design or NFT creation)', 'Creative (e.g.', ' graphic design or NFT creation)', ' UI/UX Designer', ' Musician', 'Translator - Chinese', 'open to recommendations on how I can help', 'Research Analyst', ' Writer', 'Creative (e.g.', ' graphic design or NFT creation)', ' UI/UX Designer', ' Musician', ' Strategist', 'Community Manager', ' Creative (e.g.', ' graphic design or NFT creation)', ' Research Analyst', ' Twitter Meme Lord', ' Writer', \" Potential Collab– DeFi Project: Gentlemen's Bank - 40K CAD & 10K+ NFTs\", 'Backend Dev', ' Research Analyst', ' Translator - Spanish', 'Creative (e.g.', ' graphic design or NFT creation)', ' Twitter Meme Lord', 'Creative (e.g.', ' graphic design or NFT creation)', ' Product Management', ' UI/UX Designer', 'Product Management', ' Translator - Spanish', 'Data Analytics', 'Community Manager', ' Data Analytics', ' Translator Arabic', 'Community Manager', ' Marketer  My influencer ', 'Research Analyst', ' Translator - Chinese', 'Translator - Spanish', 'Product Management', 'Community Manager', ' Translator - Chinese', 'Translator - French', 'Research Analyst', ' Writer', ' Management consultant currently; willing to help on all things strategy', 'Translator - Spanish', ' Writer', ' Traslator italian ', 'Chinese Channel Manager', 'Community Manager', ' Team coordinator ', 'Product Management', ' UI/UX Designer', 'Backend Dev', ' Data Analytics', ' Ethereum Dev', ' Product Management', ' Research Analyst', 'Writer', 'Community Manager', ' Government and Regulatory Affairs', ' Product Management', ' Research Analyst', 'Research Analyst', ' Russian translator', 'Audio & Video Editing. Audio restoration or enhancement etc.', 'Backend Dev', ' Community Manager', ' Ethereum Dev', ' Frontend Dev', ' Research Analyst', ' Writer', 'Community Manager', ' Research Analyst', ' Writer', 'Data Analytics', ' Writer', 'Creative (e.g.', ' graphic design or NFT creation)', ' Writer', ' Translator - German - if needed', 'Community Manager', ' Government and Regulatory Affairs', ' Writer', 'Community Manager', 'Creative (e.g.', ' graphic design or NFT creation)', 'Creative (e.g.', ' graphic design or NFT creation)', ' Frontend Dev', ' UI/UX Designer', 'Community Manager', ' Translator - Chinese', ' Writer', 'Community Manager', ' Product Management', ' Research Analyst', ' Writer', 'Writer', 'Community Manager', ' Research Analyst', 'Frontend Dev', 'Community Manager', ' Product Management', ' Writer', ' Market studies', ' studying actors/competition', ' creating excel models', 'Research Analyst', ' Writer', 'Research Analyst', 'Community Manager', ' Research Analyst', ' Writer', 'Community Manager', ' Creative (e.g.', ' graphic design or NFT creation)', ' Product Management', ' Writer', ' 3D Animator', 'Community Manager', ' Creative (e.g.', ' graphic design or NFT creation)', ' Product Management', ' Research Analyst', ' Writer', 'Ethereum Dev', ' Frontend Dev', 'Research Analyst', ' Writer', 'Community Manager', ' Twitter Meme Lord', 'Creative (e.g.', ' graphic design or NFT creation)', ' Data Analytics', ' Ethereum Dev', ' Product Management', ' Research Analyst', ' Translator - Spanish', 'Creative (e.g.', ' graphic design or NFT creation)', ' Data Analytics', ' Writer', ' education services in local communities.', 'Creative (e.g.', ' graphic design or NFT creation)', ' UI/UX Designer', 'Product Management', ' Writer', ' Translator - German', 'Creative (e.g.', ' graphic design or NFT creation)', ' UI/UX Designer', 'Creative (e.g.', ' graphic design or NFT creation)', ' PR & Event Production', 'Community Manager', ' Translator - Chinese', 'Data Analytics', ' Translator - Spanish', ' Writer', 'Twitter Meme Lord', ' Writer', 'Backend Dev', ' Data Analytics', ' Ethereum Dev', ' Frontend Dev', 'Writer', 'Backend Dev', ' Ethereum Dev', 'Creative (e.g.', ' graphic design or NFT creation)', ' Translator - Korean', ' Twitter Meme Lord', ' Writer', ' Translator - Dutch', 'Community Manager', ' Creative (e.g.', ' graphic design or NFT creation)', ' Daoist', 'Data Analytics', ' Government and Regulatory Affairs', ' Research Analyst', 'Data Analytics', ' Research Analyst', 'Creative (e.g.', ' graphic design or NFT creation)', ' Data Analytics', ' Government and Regulatory Affairs', ' Product Management', ' Research Analyst', ' Writer', 'Backend Dev', ' Data Analytics', ' Software Security', 'Research Analyst', ' Writer', 'Ethereum Dev', ' Writer', 'Community Manager', ' Ethereum Dev', ' Translator - Chinese', ' Twitter Meme Lord', 'Community Manager', ' Writer', 'Research Analyst', ' Translator - Chinese', ' Writer', 'Backend Dev', ' Creative (e.g.', ' graphic design or NFT creation)', ' Writer', 'Translator - Chinese', 'Translator - Persian (Farsi) & Marketing Consultant', 'Creative (e.g.', ' graphic design or NFT creation)', ' UI/UX Designer', 'Community Manager', ' Real world finance', 'Community Manager', ' Creative (e.g.', ' graphic design or NFT creation)', ' Product Management', ' Research Analyst', ' Writer', ' Translator - German', 'Backend Dev', ' Data Analytics', ' algorithmic trade', 'Translator - Spanish', 'Translator - Spanish', 'Creative (e.g.', ' graphic design or NFT creation)', ' Data Analytics', ' Writer', ' Translator Italian', 'Creative (e.g.', ' graphic design or NFT creation)', ' Government and Regulatory Affairs', 'Data Analytics', ' Translator - Spanish', 'Translator - Spanish', 'Micro pre-seed-investor', 'Community Manager', ' Research Analyst', ' Writer', 'Creative (e.g.', ' graphic design or NFT creation)', ' Translator - Spanish', 'Backend Dev', ' Data Analytics', ' Product Management', 'Data Analytics', ' Research Analyst', 'Backend Dev', ' Frontend Dev', 'Ethereum Dev', 'Backend Dev', ' Ethereum Dev', ' Frontend Dev', ' Research Analyst', ' Translator - Turkish', 'Community Manager', ' Creative (e.g.', ' graphic design or NFT creation)', ' Research Analyst', ' Translator - Vietnamese', 'Data Analytics', ' Writer', 'Translator - Polish', 'Government and Regulatory Affairs', ' Research Analyst', ' Business Development Roles ', 'Backend Dev', ' Ethereum Dev', ' Learning', 'Government and Regulatory Affairs', ' Research Analyst', ' Writer', ' Working in a mainstream bank', 'Community Manager', ' Government and Regulatory Affairs', ' Research Analyst', ' Translator - Spanish', 'Translator - Vietnamese', 'Backend Dev', ' Frontend Dev', 'Translator - Korean', 'Backend Dev', ' Data Analytics', ' Ethereum Dev', ' Research Analyst', ' Translator - Chinese', ' Translator - Korean', ' Writer', ' solidity \\\\ rust \\\\ substrate dev', 'Creative (e.g.', ' graphic design or NFT creation)', ' Writer', ' Marketing/PR', 'Data Analytics', ' Product Management', ' Research Analyst', ' Writer', 'Translator - Portuguese', ' Translator - Vietnamese', ' Writer', ' marketing', ' communications', ' branding', ' advertising', ' (mass consumer / boomer stuff)', 'Frontend Dev', ' UI/UX Designer', ' Information security', 'Backend Dev', ' Community Manager', ' Data Analytics', ' Government and Regulatory Affairs', ' Research Analyst', 'Translator - Spanish', 'Community Manager', ' Product Management', ' Research Analyst', ' Project Management', 'Community Manager', ' Product Management', ' Research Analyst', ' Business Development', ' Partnerships', 'Backend Dev', ' Data Analytics', ' Ethereum Dev', ' Frontend Dev', ' UI/UX Designer', 'Writer', ' Marketer - google SEO', ' content promotion / outreach', 'Translator - Chinese', 'DAO Governance Innovator/Documentarian', 'Product Management', ' Translator - Spanish', ' Writer', 'Product Management', 'Backend Dev', ' Frontend Dev', 'Data Analytics', ' Product Management', ' Translator - Chinese', 'DAO Governance project manager/supervisor', 'Product Management', 'Data Analytics', ' Research Analyst', ' Writer', ' Business development', 'Writer', 'Product Management', 'Government and Regulatory Affairs', ' Writer', ' Technical Support (Australian Taxation)', 'Backend Dev', ' Community Manager', ' Ethereum Dev', ' Frontend Dev', ' Government and Regulatory Affairs', ' Twitter Meme Lord', ' UI/UX Designer', 'Backend Dev', ' Creative (e.g.', ' graphic design or NFT creation)', ' Frontend Dev', ' Twitter Meme Lord', ' Writer', 'Government and Regulatory Affairs', ' Translator - Spanish', 'Community Manager', ' Data Analytics', ' Research Analyst', ' Twitter Meme Lord', ' General assistance', 'Research Analyst', ' Translator - Chinese', ' Writer', 'Product Management', ' Research Analyst', 'Backend Dev', ' Frontend Dev', 'Backend Dev', ' Ethereum Dev', ' Frontend Dev', ' Product Management', 'Frontend Dev', 'Research Analyst', ' Writer', 'UI/UX Designer', ' Writer', ' Marketing/business', 'Translator - Portuguese', 'Community Manager', ' Data Analytics', ' Research Analyst', 'Community Manager', ' Creative (e.g.', ' graphic design or NFT creation)', ' Product Management', 'Backend Dev', ' Ethereum Dev', ' Research Analyst', 'Backend Dev', ' Community Manager', ' Data Analytics', ' Frontend Dev', ' Product Management', ' Writer', 'Product Management', ' Writer', 'Frontend Dev', ' Product Management', 'Frontend Dev', ' Product Management', 'Creative (e.g.', ' graphic design or NFT creation)', ' social media', ' marketing', ' PR', ' publicity', 'Backend Dev', ' Frontend Dev', ' UI/UX Designer', 'Backend Dev', ' Data Analytics', ' Ethereum Dev', 'Backend Dev', ' Community Manager', ' Creative (e.g.', ' graphic design or NFT creation)', ' Frontend Dev', ' Product Management', ' Research Analyst', ' Writer', 'Creative (e.g.', ' graphic design or NFT creation)', 'Community Manager', ' Data Analytics', ' Product Management', ' Translator - Chinese', ' CFA Finance background', 'Community Manager', ' Data Analytics', ' Translator - Chinese', ' CFA Finance background', 'Backend Dev', ' Ethereum Dev', ' Frontend Dev', ' Product Management', ' Translator - Spanish', ' Writer', 'Community Manager', ' Creative (e.g.', ' graphic design or NFT creation)', ' Product Management', ' Twitter Meme Lord', 'Data Analytics', 'Backend Dev', ' Community Manager', ' Product Management', ' Liaison', 'Creative (e.g.', ' graphic design or NFT creation)', 'Product Management', 'Writer', ' SEO', 'Community Manager', ' Translator - Vietnamese', 'Backend Dev', 'Backend Dev', ' Ethereum Dev', ' Frontend Dev', 'Creative (e.g.', ' graphic design or NFT creation)', 'Community Manager', ' Translator - Spanish', 'Product Management', 'Backend Dev', ' Community Manager', ' Product Management', ' Research Analyst', \"None of the above... I'm new. I'm learning. I'm like the billion other people who are interested in the space\", \" but don't know enough about. I'm outgoing. I can speak in public. I can DJ and I make homemade pizza every week.  I'm fun. I'm funny.  I can help almost anywhere. I even used to be a high tech head hunter.  \", 'Product Management', 'Backend Dev', ' Ethereum Dev', ' Frontend Dev', ' Writer', 'Community Manager', ' Research Analyst', \" I'm good with financial data and numbers in general with coding experience\", ' but coding is not my full time job. Happy to step back into the game though if helping hands are needed!', 'Community Manager', ' Translator - Spanish', 'Backend Dev', ' Creative (e.g.', ' graphic design or NFT creation)', ' Ethereum Dev', ' Frontend Dev', ' Writer', ' Visual Effects/3D Work', 'Product Management', 'Data Analytics', ' Product Management', 'Community Manager', ' Community administrator', 'Community Manager', ' Data Analytics', ' Government and Regulatory Affairs', 'Data Analytics', ' Ethereum Dev', ' Research Analyst', 'Writer', 'Community Manager', ' Government and Regulatory Affairs', ' Research Analyst']\n"
     ]
    }
   ],
   "source": [
    "# function to flatten list\n",
    "\n",
    "def flatten(lst):\n",
    "    for i in lst:\n",
    "        if isinstance(i, (list, tuple)):\n",
    "            for ii in flatten(i):\n",
    "                yield ii\n",
    "        else:\n",
    "            yield i\n",
    "            \n",
    "new_list = list(flatten(split_role))\n",
    "print(new_list)"
   ]
  },
  {
   "cell_type": "code",
   "execution_count": 19,
   "metadata": {},
   "outputs": [
    {
     "data": {
      "text/html": [
       "<div>\n",
       "<style scoped>\n",
       "    .dataframe tbody tr th:only-of-type {\n",
       "        vertical-align: middle;\n",
       "    }\n",
       "\n",
       "    .dataframe tbody tr th {\n",
       "        vertical-align: top;\n",
       "    }\n",
       "\n",
       "    .dataframe thead th {\n",
       "        text-align: right;\n",
       "    }\n",
       "</style>\n",
       "<table border=\"1\" class=\"dataframe\">\n",
       "  <thead>\n",
       "    <tr style=\"text-align: right;\">\n",
       "      <th></th>\n",
       "      <th>0</th>\n",
       "    </tr>\n",
       "  </thead>\n",
       "  <tbody>\n",
       "    <tr>\n",
       "      <th>683</th>\n",
       "      <td>Research Analyst</td>\n",
       "    </tr>\n",
       "    <tr>\n",
       "      <th>684</th>\n",
       "      <td>Writer</td>\n",
       "    </tr>\n",
       "    <tr>\n",
       "      <th>685</th>\n",
       "      <td>Community Manager</td>\n",
       "    </tr>\n",
       "    <tr>\n",
       "      <th>686</th>\n",
       "      <td>Government and Regulatory Affairs</td>\n",
       "    </tr>\n",
       "    <tr>\n",
       "      <th>687</th>\n",
       "      <td>Research Analyst</td>\n",
       "    </tr>\n",
       "  </tbody>\n",
       "</table>\n",
       "</div>"
      ],
      "text/plain": [
       "                                      0\n",
       "683                    Research Analyst\n",
       "684                              Writer\n",
       "685                   Community Manager\n",
       "686   Government and Regulatory Affairs\n",
       "687                    Research Analyst"
      ]
     },
     "execution_count": 19,
     "metadata": {},
     "output_type": "execute_result"
    }
   ],
   "source": [
    "# convert new_list into data frame\n",
    "\n",
    "role_df = pd.DataFrame(new_list)\n",
    "\n",
    "role_df.tail()"
   ]
  },
  {
   "cell_type": "code",
   "execution_count": 20,
   "metadata": {},
   "outputs": [],
   "source": [
    "# save data frame to csv\n",
    "# uncomment to execute\n",
    "\n",
    "# role_df.to_csv('role_df.csv')"
   ]
  },
  {
   "cell_type": "code",
   "execution_count": null,
   "metadata": {},
   "outputs": [],
   "source": []
  }
 ],
 "metadata": {
  "kernelspec": {
   "display_name": "Python 3",
   "language": "python",
   "name": "python3"
  },
  "language_info": {
   "codemirror_mode": {
    "name": "ipython",
    "version": 3
   },
   "file_extension": ".py",
   "mimetype": "text/x-python",
   "name": "python",
   "nbconvert_exporter": "python",
   "pygments_lexer": "ipython3",
   "version": "3.8.3"
  }
 },
 "nbformat": 4,
 "nbformat_minor": 4
}
